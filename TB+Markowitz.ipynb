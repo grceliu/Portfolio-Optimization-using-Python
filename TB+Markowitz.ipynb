{
 "cells": [
  {
   "cell_type": "markdown",
   "metadata": {},
   "source": [
    "# Investment Theory - Markowitz + Index + TB"
   ]
  },
  {
   "cell_type": "markdown",
   "metadata": {},
   "source": [
    "## 本文載入的csv欄位 - 股票n支+y999加權指數+MB64(Y)無風險利率 (n不限、Rows不限)\n",
    "需要手動輸入：raw data檔名、預期報酬"
   ]
  },
  {
   "cell_type": "code",
   "execution_count": 341,
   "metadata": {},
   "outputs": [],
   "source": [
    "#Import the libraries\n",
    "import pandas as pd\n",
    "import numpy as np\n",
    "import matplotlib.pyplot as plt\n",
    "import scipy.optimize\n",
    "from scipy.optimize import linprog"
   ]
  },
  {
   "cell_type": "markdown",
   "metadata": {},
   "source": [
    "## The raw data"
   ]
  },
  {
   "cell_type": "code",
   "execution_count": 342,
   "metadata": {},
   "outputs": [
    {
     "data": {
      "text/html": [
       "<div>\n",
       "<style scoped>\n",
       "    .dataframe tbody tr th:only-of-type {\n",
       "        vertical-align: middle;\n",
       "    }\n",
       "\n",
       "    .dataframe tbody tr th {\n",
       "        vertical-align: top;\n",
       "    }\n",
       "\n",
       "    .dataframe thead th {\n",
       "        text-align: right;\n",
       "    }\n",
       "</style>\n",
       "<table border=\"1\" class=\"dataframe\">\n",
       "  <thead>\n",
       "    <tr style=\"text-align: right;\">\n",
       "      <th></th>\n",
       "      <th>1259 安心</th>\n",
       "      <th>1477 聚陽</th>\n",
       "      <th>1784 訊聯</th>\n",
       "      <th>2301 光寶科</th>\n",
       "      <th>2451 創見</th>\n",
       "      <th>0050 元大台灣50</th>\n",
       "      <th>MB64(Y)</th>\n",
       "      <th>MB64(M)</th>\n",
       "    </tr>\n",
       "    <tr>\n",
       "      <th>年月日</th>\n",
       "      <th></th>\n",
       "      <th></th>\n",
       "      <th></th>\n",
       "      <th></th>\n",
       "      <th></th>\n",
       "      <th></th>\n",
       "      <th></th>\n",
       "      <th></th>\n",
       "    </tr>\n",
       "  </thead>\n",
       "  <tbody>\n",
       "    <tr>\n",
       "      <th>2013-10-31</th>\n",
       "      <td>1.9609</td>\n",
       "      <td>19.5286</td>\n",
       "      <td>-5.1936</td>\n",
       "      <td>1.9843</td>\n",
       "      <td>-0.3224</td>\n",
       "      <td>6.2500</td>\n",
       "      <td>0.88</td>\n",
       "      <td>0.0733333333</td>\n",
       "    </tr>\n",
       "    <tr>\n",
       "      <th>2013-11-29</th>\n",
       "      <td>-2.4360</td>\n",
       "      <td>-6.4789</td>\n",
       "      <td>-1.1814</td>\n",
       "      <td>-6.5174</td>\n",
       "      <td>-5.0646</td>\n",
       "      <td>0.4668</td>\n",
       "      <td>0.88</td>\n",
       "      <td>0.0733333333</td>\n",
       "    </tr>\n",
       "    <tr>\n",
       "      <th>2013-12-31</th>\n",
       "      <td>-3.9421</td>\n",
       "      <td>-3.0122</td>\n",
       "      <td>1.9564</td>\n",
       "      <td>-0.5205</td>\n",
       "      <td>-2.7243</td>\n",
       "      <td>1.4869</td>\n",
       "      <td>0.88</td>\n",
       "      <td>0.0733333333</td>\n",
       "    </tr>\n",
       "    <tr>\n",
       "      <th>2014-01-27</th>\n",
       "      <td>-1.0944</td>\n",
       "      <td>-7.7640</td>\n",
       "      <td>-7.4627</td>\n",
       "      <td>-6.1717</td>\n",
       "      <td>5.2508</td>\n",
       "      <td>1.0988</td>\n",
       "      <td>0.88</td>\n",
       "      <td>0.0733333333</td>\n",
       "    </tr>\n",
       "    <tr>\n",
       "      <th>2014-02-27</th>\n",
       "      <td>-1.7980</td>\n",
       "      <td>11.7846</td>\n",
       "      <td>9.6775</td>\n",
       "      <td>-0.6690</td>\n",
       "      <td>2.4393</td>\n",
       "      <td>-0.1811</td>\n",
       "      <td>0.88</td>\n",
       "      <td>0.0733333333</td>\n",
       "    </tr>\n",
       "  </tbody>\n",
       "</table>\n",
       "</div>"
      ],
      "text/plain": [
       "            1259 安心  1477 聚陽  1784 訊聯  2301 光寶科  2451 創見  0050 元大台灣50  \\\n",
       "年月日                                                                     \n",
       "2013-10-31   1.9609  19.5286  -5.1936    1.9843  -0.3224       6.2500   \n",
       "2013-11-29  -2.4360  -6.4789  -1.1814   -6.5174  -5.0646       0.4668   \n",
       "2013-12-31  -3.9421  -3.0122   1.9564   -0.5205  -2.7243       1.4869   \n",
       "2014-01-27  -1.0944  -7.7640  -7.4627   -6.1717   5.2508       1.0988   \n",
       "2014-02-27  -1.7980  11.7846   9.6775   -0.6690   2.4393      -0.1811   \n",
       "\n",
       "            MB64(Y)       MB64(M)  \n",
       "年月日                                \n",
       "2013-10-31     0.88  0.0733333333  \n",
       "2013-11-29     0.88  0.0733333333  \n",
       "2013-12-31     0.88  0.0733333333  \n",
       "2014-01-27     0.88  0.0733333333  \n",
       "2014-02-27     0.88  0.0733333333  "
      ]
     },
     "execution_count": 342,
     "metadata": {},
     "output_type": "execute_result"
    }
   ],
   "source": [
    "ReturnMonthly = pd.read_excel(\"template.xlsx\", skiprows=1, index_col='年月日')\n",
    "ReturnMonthly[\"MB64(M)\"] = ReturnMonthly[\"MB64(Y)\"]/12\n",
    "ReturnMonthly.head()\n"
   ]
  },
  {
   "cell_type": "markdown",
   "metadata": {},
   "source": [
    "## Convert Return to Excess Return"
   ]
  },
  {
   "cell_type": "code",
   "execution_count": 343,
   "metadata": {
    "scrolled": true
   },
   "outputs": [
    {
     "data": {
      "text/html": [
       "<div>\n",
       "<style scoped>\n",
       "    .dataframe tbody tr th:only-of-type {\n",
       "        vertical-align: middle;\n",
       "    }\n",
       "\n",
       "    .dataframe tbody tr th {\n",
       "        vertical-align: top;\n",
       "    }\n",
       "\n",
       "    .dataframe thead th {\n",
       "        text-align: right;\n",
       "    }\n",
       "</style>\n",
       "<table border=\"1\" class=\"dataframe\">\n",
       "  <thead>\n",
       "    <tr style=\"text-align: right;\">\n",
       "      <th></th>\n",
       "      <th>1259 安心</th>\n",
       "      <th>1477 聚陽</th>\n",
       "      <th>1784 訊聯</th>\n",
       "      <th>2301 光寶科</th>\n",
       "      <th>2451 創見</th>\n",
       "      <th>0050 元大台灣50</th>\n",
       "    </tr>\n",
       "    <tr>\n",
       "      <th>年月日</th>\n",
       "      <th></th>\n",
       "      <th></th>\n",
       "      <th></th>\n",
       "      <th></th>\n",
       "      <th></th>\n",
       "      <th></th>\n",
       "    </tr>\n",
       "  </thead>\n",
       "  <tbody>\n",
       "    <tr>\n",
       "      <th>2013-10-31</th>\n",
       "      <td>0.0188756667</td>\n",
       "      <td>0.1945526667</td>\n",
       "      <td>-0.0526693333</td>\n",
       "      <td>0.0191096667</td>\n",
       "      <td>-0.0039573333</td>\n",
       "      <td>0.0617666667</td>\n",
       "    </tr>\n",
       "    <tr>\n",
       "      <th>2013-11-29</th>\n",
       "      <td>-0.0250933333</td>\n",
       "      <td>-0.0655223333</td>\n",
       "      <td>-0.0125473333</td>\n",
       "      <td>-0.0659073333</td>\n",
       "      <td>-0.0513793333</td>\n",
       "      <td>0.0039346667</td>\n",
       "    </tr>\n",
       "    <tr>\n",
       "      <th>2013-12-31</th>\n",
       "      <td>-0.0401543333</td>\n",
       "      <td>-0.0308553333</td>\n",
       "      <td>0.0188306667</td>\n",
       "      <td>-0.0059383333</td>\n",
       "      <td>-0.0279763333</td>\n",
       "      <td>0.0141356667</td>\n",
       "    </tr>\n",
       "    <tr>\n",
       "      <th>2014-01-27</th>\n",
       "      <td>-0.0116773333</td>\n",
       "      <td>-0.0783733333</td>\n",
       "      <td>-0.0753603333</td>\n",
       "      <td>-0.0624503333</td>\n",
       "      <td>0.0517746667</td>\n",
       "      <td>0.0102546667</td>\n",
       "    </tr>\n",
       "    <tr>\n",
       "      <th>2014-02-27</th>\n",
       "      <td>-0.0187133333</td>\n",
       "      <td>0.1171126667</td>\n",
       "      <td>0.0960416667</td>\n",
       "      <td>-0.0074233333</td>\n",
       "      <td>0.0236596667</td>\n",
       "      <td>-0.0025443333</td>\n",
       "    </tr>\n",
       "  </tbody>\n",
       "</table>\n",
       "</div>"
      ],
      "text/plain": [
       "                 1259 安心       1477 聚陽       1784 訊聯      2301 光寶科  \\\n",
       "年月日                                                                  \n",
       "2013-10-31  0.0188756667  0.1945526667 -0.0526693333  0.0191096667   \n",
       "2013-11-29 -0.0250933333 -0.0655223333 -0.0125473333 -0.0659073333   \n",
       "2013-12-31 -0.0401543333 -0.0308553333  0.0188306667 -0.0059383333   \n",
       "2014-01-27 -0.0116773333 -0.0783733333 -0.0753603333 -0.0624503333   \n",
       "2014-02-27 -0.0187133333  0.1171126667  0.0960416667 -0.0074233333   \n",
       "\n",
       "                 2451 創見   0050 元大台灣50  \n",
       "年月日                                     \n",
       "2013-10-31 -0.0039573333  0.0617666667  \n",
       "2013-11-29 -0.0513793333  0.0039346667  \n",
       "2013-12-31 -0.0279763333  0.0141356667  \n",
       "2014-01-27  0.0517746667  0.0102546667  \n",
       "2014-02-27  0.0236596667 -0.0025443333  "
      ]
     },
     "execution_count": 343,
     "metadata": {},
     "output_type": "execute_result"
    }
   ],
   "source": [
    "ExcessMonthlyReturn = ReturnMonthly.iloc[:,0:-2]  #第一行到最後第三行(扣掉倒數兩行)(只有股票＋元大)\n",
    "for column in ExcessMonthlyReturn:\n",
    "    ExcessMonthlyReturn[column] = (ExcessMonthlyReturn[column] - ReturnMonthly['MB64(M)'])/100 #改成報酬“率”\n",
    "ExcessMonthlyReturn.head()\n"
   ]
  },
  {
   "cell_type": "markdown",
   "metadata": {},
   "source": [
    "# Part 1: Markowitz \n",
    "Let's start with the markowitz model, that is to say, use the covariance matrix as it is. "
   ]
  },
  {
   "cell_type": "markdown",
   "metadata": {},
   "source": [
    "## Monthly Covariance Matrix\n",
    "The function `.cov()` returns the covariance matrix for a dataframe.\t"
   ]
  },
  {
   "cell_type": "code",
   "execution_count": 344,
   "metadata": {},
   "outputs": [
    {
     "data": {
      "text/html": [
       "<div>\n",
       "<style scoped>\n",
       "    .dataframe tbody tr th:only-of-type {\n",
       "        vertical-align: middle;\n",
       "    }\n",
       "\n",
       "    .dataframe tbody tr th {\n",
       "        vertical-align: top;\n",
       "    }\n",
       "\n",
       "    .dataframe thead th {\n",
       "        text-align: right;\n",
       "    }\n",
       "</style>\n",
       "<table border=\"1\" class=\"dataframe\">\n",
       "  <thead>\n",
       "    <tr style=\"text-align: right;\">\n",
       "      <th></th>\n",
       "      <th>1259 安心</th>\n",
       "      <th>1477 聚陽</th>\n",
       "      <th>1784 訊聯</th>\n",
       "      <th>2301 光寶科</th>\n",
       "      <th>2451 創見</th>\n",
       "    </tr>\n",
       "  </thead>\n",
       "  <tbody>\n",
       "    <tr>\n",
       "      <th>1259 安心</th>\n",
       "      <td>0.0028082972</td>\n",
       "      <td>0.0006380516</td>\n",
       "      <td>0.0002883937</td>\n",
       "      <td>0.0000733336</td>\n",
       "      <td>0.0003710545</td>\n",
       "    </tr>\n",
       "    <tr>\n",
       "      <th>1477 聚陽</th>\n",
       "      <td>0.0006380516</td>\n",
       "      <td>0.0054605777</td>\n",
       "      <td>0.0001162240</td>\n",
       "      <td>0.0001833769</td>\n",
       "      <td>0.0003145912</td>\n",
       "    </tr>\n",
       "    <tr>\n",
       "      <th>1784 訊聯</th>\n",
       "      <td>0.0002883937</td>\n",
       "      <td>0.0001162240</td>\n",
       "      <td>0.0061587790</td>\n",
       "      <td>0.0012954735</td>\n",
       "      <td>0.0006080234</td>\n",
       "    </tr>\n",
       "    <tr>\n",
       "      <th>2301 光寶科</th>\n",
       "      <td>0.0000733336</td>\n",
       "      <td>0.0001833769</td>\n",
       "      <td>0.0012954735</td>\n",
       "      <td>0.0034500906</td>\n",
       "      <td>0.0010484126</td>\n",
       "    </tr>\n",
       "    <tr>\n",
       "      <th>2451 創見</th>\n",
       "      <td>0.0003710545</td>\n",
       "      <td>0.0003145912</td>\n",
       "      <td>0.0006080234</td>\n",
       "      <td>0.0010484126</td>\n",
       "      <td>0.0027499781</td>\n",
       "    </tr>\n",
       "  </tbody>\n",
       "</table>\n",
       "</div>"
      ],
      "text/plain": [
       "               1259 安心       1477 聚陽       1784 訊聯      2301 光寶科       2451 創見\n",
       "1259 安心   0.0028082972  0.0006380516  0.0002883937  0.0000733336  0.0003710545\n",
       "1477 聚陽   0.0006380516  0.0054605777  0.0001162240  0.0001833769  0.0003145912\n",
       "1784 訊聯   0.0002883937  0.0001162240  0.0061587790  0.0012954735  0.0006080234\n",
       "2301 光寶科  0.0000733336  0.0001833769  0.0012954735  0.0034500906  0.0010484126\n",
       "2451 創見   0.0003710545  0.0003145912  0.0006080234  0.0010484126  0.0027499781"
      ]
     },
     "execution_count": 344,
     "metadata": {},
     "output_type": "execute_result"
    }
   ],
   "source": [
    "Stocks = ExcessMonthlyReturn.iloc[:,0:-1]  #只有股票(暫時不用元大)\n",
    "MonthlyCovMatrix = Stocks.cov()\n",
    "MonthlyCovMatrix"
   ]
  },
  {
   "cell_type": "markdown",
   "metadata": {},
   "source": [
    "## Yearly Covariance Matrix"
   ]
  },
  {
   "cell_type": "code",
   "execution_count": 345,
   "metadata": {
    "scrolled": true
   },
   "outputs": [
    {
     "data": {
      "text/html": [
       "<div>\n",
       "<style scoped>\n",
       "    .dataframe tbody tr th:only-of-type {\n",
       "        vertical-align: middle;\n",
       "    }\n",
       "\n",
       "    .dataframe tbody tr th {\n",
       "        vertical-align: top;\n",
       "    }\n",
       "\n",
       "    .dataframe thead th {\n",
       "        text-align: right;\n",
       "    }\n",
       "</style>\n",
       "<table border=\"1\" class=\"dataframe\">\n",
       "  <thead>\n",
       "    <tr style=\"text-align: right;\">\n",
       "      <th></th>\n",
       "      <th>1259 安心</th>\n",
       "      <th>1477 聚陽</th>\n",
       "      <th>1784 訊聯</th>\n",
       "      <th>2301 光寶科</th>\n",
       "      <th>2451 創見</th>\n",
       "    </tr>\n",
       "  </thead>\n",
       "  <tbody>\n",
       "    <tr>\n",
       "      <th>1259 安心</th>\n",
       "      <td>0.0336995664</td>\n",
       "      <td>0.0076566195</td>\n",
       "      <td>0.0034607240</td>\n",
       "      <td>0.0008800037</td>\n",
       "      <td>0.0044526545</td>\n",
       "    </tr>\n",
       "    <tr>\n",
       "      <th>1477 聚陽</th>\n",
       "      <td>0.0076566195</td>\n",
       "      <td>0.0655269320</td>\n",
       "      <td>0.0013946883</td>\n",
       "      <td>0.0022005224</td>\n",
       "      <td>0.0037750948</td>\n",
       "    </tr>\n",
       "    <tr>\n",
       "      <th>1784 訊聯</th>\n",
       "      <td>0.0034607240</td>\n",
       "      <td>0.0013946883</td>\n",
       "      <td>0.0739053485</td>\n",
       "      <td>0.0155456819</td>\n",
       "      <td>0.0072962809</td>\n",
       "    </tr>\n",
       "    <tr>\n",
       "      <th>2301 光寶科</th>\n",
       "      <td>0.0008800037</td>\n",
       "      <td>0.0022005224</td>\n",
       "      <td>0.0155456819</td>\n",
       "      <td>0.0414010874</td>\n",
       "      <td>0.0125809507</td>\n",
       "    </tr>\n",
       "    <tr>\n",
       "      <th>2451 創見</th>\n",
       "      <td>0.0044526545</td>\n",
       "      <td>0.0037750948</td>\n",
       "      <td>0.0072962809</td>\n",
       "      <td>0.0125809507</td>\n",
       "      <td>0.0329997369</td>\n",
       "    </tr>\n",
       "  </tbody>\n",
       "</table>\n",
       "</div>"
      ],
      "text/plain": [
       "               1259 安心       1477 聚陽       1784 訊聯      2301 光寶科       2451 創見\n",
       "1259 安心   0.0336995664  0.0076566195  0.0034607240  0.0008800037  0.0044526545\n",
       "1477 聚陽   0.0076566195  0.0655269320  0.0013946883  0.0022005224  0.0037750948\n",
       "1784 訊聯   0.0034607240  0.0013946883  0.0739053485  0.0155456819  0.0072962809\n",
       "2301 光寶科  0.0008800037  0.0022005224  0.0155456819  0.0414010874  0.0125809507\n",
       "2451 創見   0.0044526545  0.0037750948  0.0072962809  0.0125809507  0.0329997369"
      ]
     },
     "execution_count": 345,
     "metadata": {},
     "output_type": "execute_result"
    }
   ],
   "source": [
    "YearlyCovMatrix = MonthlyCovMatrix * 12\n",
    "YearlyCovMatrix"
   ]
  },
  {
   "cell_type": "markdown",
   "metadata": {},
   "source": [
    "# Portfolios, Efficient Frontier, and the CAL"
   ]
  },
  {
   "cell_type": "code",
   "execution_count": 346,
   "metadata": {},
   "outputs": [],
   "source": [
    "import cvxopt as opt\n",
    "import scipy.optimize as sco\n",
    "from cvxopt import blas, solvers\n",
    "from numpy import array\n",
    "\n",
    "# Turn off progress printing \n",
    "solvers.options['show_progress'] = False"
   ]
  },
  {
   "cell_type": "markdown",
   "metadata": {},
   "source": [
    "## 注意：請自行輸入外生給定的returns(本題為輸入預期報酬，再扣掉無風險利率)"
   ]
  },
  {
   "cell_type": "code",
   "execution_count": 347,
   "metadata": {},
   "outputs": [
    {
     "name": "stdout",
     "output_type": "stream",
     "text": [
      "Number of assets:  5\n"
     ]
    }
   ],
   "source": [
    "#n_assets = len(list(ExcessMonthlyReturn.iloc[:,0:-1]))\n",
    "returns_annual = pd.Series([0.18,\n",
    "0.12,\n",
    "0.15,\n",
    "0.11,\n",
    "0.09,\n",
    "])\n",
    "returns_annual = returns_annual - 0.007\n",
    "\n",
    "num_assets = len(returns_annual)\n",
    "print(\"Number of assets: \",num_assets)"
   ]
  },
  {
   "cell_type": "markdown",
   "metadata": {},
   "source": [
    "## Maximize the Sharpe Ratio\n",
    "Following the steps from [this article](http://www.bradfordlynch.com/blog/2015/12/04/InvestmentPortfolioOptimization.html)."
   ]
  },
  {
   "cell_type": "code",
   "execution_count": 348,
   "metadata": {},
   "outputs": [],
   "source": [
    "def calcPortfolioPerf(weights, meanReturns, covMatrix):\n",
    "    '''\n",
    "    weights: list \n",
    "    meanReturns: list\n",
    "    covMatrix: .cov()\n",
    "    '''\n",
    "    #Calculate return and variance\n",
    "    portReturn = np.sum( meanReturns*weights )\n",
    "    portStdDev = np.sqrt(np.dot(weights.T, np.dot(covMatrix, weights)))\n",
    "\n",
    "    return portReturn, portStdDev\n",
    "\n",
    "def negSharpeRatio(weights, meanReturns, covMatrix, riskFreeRate):\n",
    "    '''\n",
    "    weights: list\n",
    "    meanReturns: list\n",
    "    covMatrix: .cov()\n",
    "    riskFreeRate: constant\n",
    "    '''\n",
    "    p_ret, p_var = calcPortfolioPerf(weights, meanReturns, covMatrix)\n",
    "\n",
    "    return -(p_ret - riskFreeRate) / p_var\n",
    "\n",
    "def findMaxSharpeRatioPortfolio(meanReturns, covMatrix, riskFreeRate,short):\n",
    "    '''\n",
    "    meanReturns: list\n",
    "    covMatrix: .cov()\n",
    "    riskFreeRate: constant\n",
    "    short: True/False to indicate whether short sale is allowed\n",
    "    '''\n",
    "    numAssets = len(meanReturns)\n",
    "    args = (meanReturns, covMatrix, riskFreeRate)\n",
    "    constraints = ({'type': 'eq', 'fun': lambda x: np.sum(x) - 1})\n",
    "    if short == True:\n",
    "        bounds = tuple( (-10,10) for asset in range(numAssets))\n",
    "    else:\n",
    "        bounds = tuple( (0,1) for asset in range(numAssets))\n",
    "\n",
    "    opts = sco.minimize(negSharpeRatio, numAssets*[1./numAssets,], args=args, method='SLSQP', bounds=bounds, constraints=constraints)\n",
    "\n",
    "    return opts"
   ]
  },
  {
   "cell_type": "markdown",
   "metadata": {},
   "source": [
    "### Markowitz - Max Sharpe Ratio with shortsale"
   ]
  },
  {
   "cell_type": "code",
   "execution_count": 349,
   "metadata": {
    "scrolled": true
   },
   "outputs": [
    {
     "name": "stdout",
     "output_type": "stream",
     "text": [
      "The max sharpe ratio is 1.1555689186490516\n",
      "The expected return is 0.1419268883511789\n",
      "\n",
      "0.489362869082453\n",
      "0.112130169196708\n",
      "0.135876297364486\n",
      "0.168387360799386\n",
      "0.094243303556967\n"
     ]
    }
   ],
   "source": [
    "expected_return = returns_annual.tolist()\n",
    "maxSharpe_s = findMaxSharpeRatioPortfolio(expected_return,YearlyCovMatrix,0,True)\n",
    "sharpe_rp_s, sharpe_sdp_s = calcPortfolioPerf(maxSharpe_s['x'], expected_return, YearlyCovMatrix)\n",
    "\n",
    "sharpe_ratio_s = sharpe_rp_s / sharpe_sdp_s\n",
    "\n",
    "print(\"The max sharpe ratio is\",sharpe_ratio_s)\n",
    "print(\"The expected return is\",sharpe_rp_s)\n",
    "print(\"\")\n",
    "for i in maxSharpe_s['x']:\n",
    "     print('%.015f' % i)"
   ]
  },
  {
   "cell_type": "markdown",
   "metadata": {},
   "source": [
    "### Markowitz - Max Sharpe Ratio without shortsale"
   ]
  },
  {
   "cell_type": "code",
   "execution_count": 350,
   "metadata": {},
   "outputs": [
    {
     "name": "stdout",
     "output_type": "stream",
     "text": [
      "0.489362453585216\n",
      "0.112132812222233\n",
      "0.135880458879072\n",
      "0.168383251559077\n",
      "0.094241023754402\n",
      "\n",
      "The max sharpe ratio is 1.1555689189670848\n",
      "The expected return is 0.1419270977532623\n"
     ]
    }
   ],
   "source": [
    "#max sharpe ratio without shortsale\n",
    "expected_return = returns_annual.tolist()\n",
    "maxSharpe_n = findMaxSharpeRatioPortfolio(expected_return,YearlyCovMatrix,0,False)\n",
    "sharpe_rp_n, sharpe_sdp_n = calcPortfolioPerf(maxSharpe_n['x'], expected_return, YearlyCovMatrix)\n",
    "\n",
    "sharpe_ratio_n = sharpe_rp_n / sharpe_sdp_n\n",
    "\n",
    "for i in maxSharpe_n['x']:\n",
    "     print('%.015f' % i)\n",
    "print(\"\")\n",
    "print(\"The max sharpe ratio is\",sharpe_ratio_n)\n",
    "print(\"The expected return is\",sharpe_rp_n)"
   ]
  },
  {
   "cell_type": "markdown",
   "metadata": {},
   "source": [
    "## Efficient Frontier and the Min Variance Portfolio\n",
    "To know more about how **solvers.qp()** works: https://courses.csail.mit.edu/6.867/wiki/images/a/a7/Qp-cvxopt.pdf"
   ]
  },
  {
   "cell_type": "code",
   "execution_count": 351,
   "metadata": {},
   "outputs": [],
   "source": [
    "def efficient_frontier_and_min_var(returns, covmatrix, short):\n",
    "    n = len(returns)\n",
    "    p = np.asmatrix(returns)\n",
    "    C = np.asmatrix(covmatrix)\n",
    "    \n",
    "    N = 100\n",
    "    mus = [10**(5.0 * t/N - 1.0) for t in range(N)]\n",
    "\n",
    "    # Convert to cvxopt matrices\n",
    "    S = opt.matrix(C)\n",
    "    pbar = opt.matrix(p.T)\n",
    "    \n",
    "    # Create constraint matrices\n",
    "    if short == True:\n",
    "        G = opt.matrix(np.eye(n))   \n",
    "        h = opt.matrix(1.5, (n ,1))\n",
    "    else:\n",
    "        G = -opt.matrix(np.eye(n))\n",
    "        h = opt.matrix(0.0,(n,1))\n",
    "    \n",
    "    A = opt.matrix(1.0, (1, n))\n",
    "    b = opt.matrix(1.0)\n",
    "    \n",
    "    # Calculate efficient frontier weights using quadratic programming\n",
    "    portfolios = [solvers.qp(mu*S, -pbar, G, h, A, b)['x'] for mu in mus]\n",
    "    \n",
    "    #The min var point\n",
    "    q = opt.matrix(0.0, (n, 1))\n",
    "    min_portfolio = solvers.qp(S, q, G, h, A, b)['x']  \n",
    "    min_portfolio = array(min_portfolio).flatten()\n",
    "    \n",
    "    \n",
    "    ## CALCULATE RISKS AND RETURNS FOR FRONTIER\n",
    "    returns = [blas.dot(pbar, x) for x in portfolios]\n",
    "    risks = [np.sqrt(blas.dot(x, S*x)) for x in portfolios]\n",
    "    \n",
    "    return portfolios, returns, risks, min_portfolio"
   ]
  },
  {
   "cell_type": "markdown",
   "metadata": {},
   "source": [
    "### Markowitz - Min Var with shortsale"
   ]
  },
  {
   "cell_type": "code",
   "execution_count": 352,
   "metadata": {
    "scrolled": true
   },
   "outputs": [
    {
     "name": "stdout",
     "output_type": "stream",
     "text": [
      "The min sd is :  0.11544041025646937\n",
      "The return is :  0.1253840105630561\n",
      " \n",
      "0.314846486017362\n",
      "0.143612794572931\n",
      "0.097182296154763\n",
      "0.195425260750991\n",
      "0.248933162503953\n"
     ]
    }
   ],
   "source": [
    "portfolios_s, returns_s, risks_s, minvar_portfolio_s = efficient_frontier_and_min_var(returns_annual,YearlyCovMatrix,True)\n",
    "minvar_rp_s, minvar_sdp_s = calcPortfolioPerf(minvar_portfolio_s, expected_return, YearlyCovMatrix)\n",
    "\n",
    "\n",
    "print(\"The min sd is : \", minvar_sdp_s)\n",
    "print(\"The return is : \",minvar_rp_s)\n",
    "print(\" \")\n",
    "for i in minvar_portfolio_s:\n",
    "     print('%.015f' % i)\n"
   ]
  },
  {
   "cell_type": "markdown",
   "metadata": {},
   "source": [
    "### Markowitz - Min Var without shortsale"
   ]
  },
  {
   "cell_type": "code",
   "execution_count": 353,
   "metadata": {},
   "outputs": [],
   "source": [
    "portfolios_n, returns_n, risks_n, min_portfolio_n = efficient_frontier_and_min_var(returns_annual,YearlyCovMatrix,False)\n",
    "minvar_rp_n, minvar_sdp_n = calcPortfolioPerf(min_portfolio_n, expected_return, YearlyCovMatrix)\n",
    "\n",
    "#print(\"The min sd is : \", minvar_sdp_n)\n",
    "#print(\"The return is : \",minvar_rp_n)\n",
    "#print(\" \")\n",
    "#for i in min_portfolio_n:\n",
    "#     print('%.015f' % i)"
   ]
  },
  {
   "cell_type": "markdown",
   "metadata": {},
   "source": [
    "## Given the Mean, the portfolio with minimum SD?\n",
    "To know more about how **solvers.qp()** works: https://courses.csail.mit.edu/6.867/wiki/images/a/a7/Qp-cvxopt.pdf"
   ]
  },
  {
   "cell_type": "code",
   "execution_count": 354,
   "metadata": {},
   "outputs": [],
   "source": [
    "def GivenReturnMinVarPort(ReturnGiven, returns, covmatrix, short):\n",
    "    n = len(returns)\n",
    "    p = np.asmatrix(returns)\n",
    "    C = np.asmatrix(covmatrix)\n",
    "\n",
    "    # Convert to cvxopt matrices\n",
    "    S = opt.matrix(C)\n",
    "    \n",
    "    # Create constraint matrices\n",
    "    if short == True:\n",
    "        G = opt.matrix(np.eye(n))   \n",
    "        h = opt.matrix(1.5, (n ,1))\n",
    "    else:\n",
    "        G = -opt.matrix(np.eye(n))\n",
    "        h = opt.matrix(0.0,(n,1))\n",
    "    \n",
    "    a1 = [1]*n   #1*weights =1 \n",
    "    a2 =returns.tolist()  #expectedRetrun*weights = ReturnsGiven\n",
    "    A = opt.matrix(a1+a2, (n,2)).T  #stack two list in a 2xn matrix\n",
    "    b = opt.matrix([1.0,ReturnGiven],(2,1))   #2xn times nx1 = 2x1 matrix\n",
    "    \n",
    "    #The min var point\n",
    "    q = opt.matrix(0.0, (n, 1))\n",
    "    portfolios = solvers.qp(S, q, G, h, A, b)['x']  \n",
    "    portfolios = array(portfolios).flatten()\n",
    "    \n",
    "    return portfolios"
   ]
  },
  {
   "cell_type": "markdown",
   "metadata": {},
   "source": [
    "## To make the df"
   ]
  },
  {
   "cell_type": "code",
   "execution_count": 355,
   "metadata": {
    "scrolled": true
   },
   "outputs": [],
   "source": [
    "#portfolio maxSharpe_n['x'] (no shortsale)\n",
    "MaxSharpe_potfolio_n = np.concatenate([[sharpe_rp_n],[sharpe_sdp_n],[sharpe_ratio_n],maxSharpe_n['x']])\n",
    "MinVariance_portfolio_n = np.concatenate([[minvar_rp_n],[minvar_sdp_n],[minvar_rp_n/minvar_sdp_n],maxSharpe_n['x']])\n",
    "\n",
    "#portfolio maxSharpe_s['x']  (shortsale)\n",
    "MaxSharpe_potfolio_s = np.concatenate([[sharpe_rp_s],[sharpe_sdp_s],[sharpe_ratio_s],maxSharpe_s['x']])\n",
    "MinVariance_portfolio_s = np.concatenate([[minvar_rp_s],[minvar_sdp_s],[minvar_rp_s/minvar_sdp_s],maxSharpe_s['x']])"
   ]
  },
  {
   "cell_type": "markdown",
   "metadata": {},
   "source": [
    "## No short sale portfolios\n",
    "製作需要的excel表格（手動輸入間距）\n",
    "Rows: 0-Mean, 1-SD, 2-Slope, 3-12-Weights"
   ]
  },
  {
   "cell_type": "code",
   "execution_count": 356,
   "metadata": {},
   "outputs": [],
   "source": [
    "pd.set_option('precision',10)\n",
    "GivenReturnList = [0.06,0.07,0.08,0.09,0.11,0.12,0.13,0.14]\n",
    "l =[]\n",
    "for i in range(8):  # do 9 times\n",
    "    GivenReturn = GivenReturnList[i]   #####\n",
    "    portfolio = GivenReturnMinVarPort(GivenReturn, returns_annual,YearlyCovMatrix,False)  #####\n",
    "    portfolio_rp, portfolio_sdp = calcPortfolioPerf(portfolio, expected_return, YearlyCovMatrix)\n",
    "    sharpe = portfolio_rp/portfolio_sdp\n",
    "    column = [portfolio_rp, portfolio_sdp, sharpe] + portfolio.tolist()\n",
    "    l.append(column)\n",
    "\n",
    "data=pd.DataFrame(l).T\n",
    "data.insert(4, \"Optimum\", MaxSharpe_potfolio_n)\n",
    "data.insert(0, \"MinVariance\", MinVariance_portfolio_n)  #####\n",
    "#data"
   ]
  },
  {
   "cell_type": "markdown",
   "metadata": {},
   "source": [
    "## Short sale portfolios\n",
    "Rows: 0-Mean, 1-SD, 2-Slope, 3-12-Weights"
   ]
  },
  {
   "cell_type": "code",
   "execution_count": 357,
   "metadata": {},
   "outputs": [],
   "source": [
    "pd.set_option('precision',10)\n",
    "GivenReturnList = [0.06,0.07,0.08,0.09,0.11,0.12,0.13,0.14]\n",
    "l =[]\n",
    "for i in range(8):  # do 9 times\n",
    "    GivenReturn = GivenReturnList[i]   #####\n",
    "    portfolio = GivenReturnMinVarPort(GivenReturn, returns_annual,YearlyCovMatrix,True)  #####\n",
    "    portfolio_rp, portfolio_sdp = calcPortfolioPerf(portfolio, expected_return, YearlyCovMatrix)\n",
    "    sharpe = portfolio_rp/portfolio_sdp\n",
    "    column = [portfolio_rp, portfolio_sdp, sharpe] + portfolio.tolist()\n",
    "    l.append(column)\n",
    "\n",
    "data=pd.DataFrame(l).T\n",
    "data.insert(4, \"Optimum\", MaxSharpe_potfolio_s)\n",
    "data.insert(0, \"MinVariance\", MinVariance_portfolio_s)  #####\n",
    "#data"
   ]
  },
  {
   "cell_type": "markdown",
   "metadata": {},
   "source": [
    "## Markowitz - Figure"
   ]
  },
  {
   "cell_type": "code",
   "execution_count": 358,
   "metadata": {},
   "outputs": [
    {
     "data": {
      "image/png": "[encoded data removed]",
      "text/plain": [
       "<Figure size 720x432 with 1 Axes>"
      ]
     },
     "metadata": {},
     "output_type": "display_data"
    }
   ],
   "source": [
    "plt.figure(figsize=(10,6))    #更改圖的大小\n",
    "x = np.linspace(0, 0.3, 1000)\n",
    "plt.xlim(0.05,0.2)    #更改圖中x之範圍\n",
    "plt.ylim(0.0,0.25)          #更改圖中y之範圍\n",
    "plt.plot(x, sharpe_ratio_s*x,'r')  \n",
    "plt.plot(risks_s, returns_s, 'r')\n",
    "plt.plot(minvar_sdp_s, minvar_rp_s, 'ro') #min variance portfolio with shortsale\n",
    "plt.plot(sharpe_sdp_s, sharpe_rp_s, 'ro') #min sharpe ratio portfolio with shortsale\n",
    "\n",
    "plt.plot(x, sharpe_ratio_n*x,'k')  \n",
    "plt.plot(risks_n, returns_n, 'k')\n",
    "plt.plot(minvar_sdp_n, minvar_rp_n, 'ko') #min variance portfolio without shortsale\n",
    "plt.plot(sharpe_sdp_n, sharpe_rp_n, 'ko') #min sharpe ratio portfolio without shortsale\n",
    "\n",
    "plt.xlabel('Volatility (Std. Deviation)')\n",
    "plt.ylabel('Expected Returns')\n",
    "plt.title('Efficient Frontier and CAL')\n",
    "plt.grid()\n",
    "\n",
    "plt.show()"
   ]
  },
  {
   "cell_type": "markdown",
   "metadata": {},
   "source": [
    "# Part 2: Index Model\n",
    "In the following sessions, we are going to obtain the portfolio using the Index Model. Based on the assumptions, we can derive that \n",
    "- $Var(r_i) = \\beta_i^2\\sigma_m^2 + \\sigma^2(e_i)$\n",
    "- $Cov(r_i,r_j) = \\beta_i\\beta_j\\sigma_m^2$"
   ]
  },
  {
   "cell_type": "code",
   "execution_count": 359,
   "metadata": {},
   "outputs": [
    {
     "name": "stdout",
     "output_type": "stream",
     "text": [
      "const          0.0012813237\n",
      "0050 元大台灣50    0.0618217162\n",
      "dtype: float64\n",
      "                            OLS Regression Results                            \n",
      "==============================================================================\n",
      "Dep. Variable:                1259 安心   R-squared:                       0.001\n",
      "Model:                            OLS   Adj. R-squared:                 -0.016\n",
      "Method:                 Least Squares   F-statistic:                   0.06269\n",
      "Date:                Wed, 07 Nov 2018   Prob (F-statistic):              0.803\n",
      "Time:                        18:09:28   Log-Likelihood:                 91.656\n",
      "No. Observations:                  60   AIC:                            -179.3\n",
      "Df Residuals:                      58   BIC:                            -175.1\n",
      "Df Model:                           1                                         \n",
      "Covariance Type:            nonrobust                                         \n",
      "===============================================================================\n",
      "                  coef    std err          t      P>|t|      [0.025      0.975]\n",
      "-------------------------------------------------------------------------------\n",
      "const           0.0013      0.007      0.174      0.863      -0.013       0.016\n",
      "0050 元大台灣50     0.0618      0.247      0.250      0.803      -0.432       0.556\n",
      "==============================================================================\n",
      "Omnibus:                       26.447   Durbin-Watson:                   1.756\n",
      "Prob(Omnibus):                  0.000   Jarque-Bera (JB):               46.029\n",
      "Skew:                           1.509   Prob(JB):                     1.01e-10\n",
      "Kurtosis:                       6.050   Cond. No.                         35.8\n",
      "==============================================================================\n",
      "\n",
      "Warnings:\n",
      "[1] Standard Errors assume that the covariance matrix of the errors is correctly specified.\n"
     ]
    }
   ],
   "source": [
    "import statsmodels.api as sm\n",
    "Y = ExcessMonthlyReturn.iloc[:,0]  #select first column of the dataframe and turn it into numpy array\n",
    "X = ExcessMonthlyReturn.iloc[:,-1]#select the last column of the dataframe and turn it into numpy array(y9999)\n",
    "X = sm.add_constant(X)   #要加這項才會有constant（詭異的設定）\n",
    "results = sm.OLS(Y,X,).fit()\n",
    "print(results.params)\n",
    "print(results.summary())"
   ]
  },
  {
   "cell_type": "markdown",
   "metadata": {},
   "source": [
    "## Run all the regressions to get the betas"
   ]
  },
  {
   "cell_type": "code",
   "execution_count": 360,
   "metadata": {},
   "outputs": [],
   "source": [
    "import statsmodels.api as sm\n",
    "BetaList = []  #create an empty list to store beta\n",
    "SeSquareList = []  #create an empty list to store square of standard deviation\n",
    "\n",
    "for i in range(num_assets):\n",
    "    Y = ExcessMonthlyReturn.iloc[:,i]  #select column i of the dataframe \n",
    "    X = ExcessMonthlyReturn.iloc[:,-1]#select the last column of the dataframe(y9999)\n",
    "    X = sm.add_constant(X)   #要加這項才會有constant（詭異的設定）\n",
    "    results = sm.OLS(Y,X,).fit()\n",
    "    BetaList.append(results.params[1])\n",
    "    se_square = results.scale\n",
    "    SeSquareList.append(se_square)\n",
    "    #print(results.summary())"
   ]
  },
  {
   "cell_type": "code",
   "execution_count": 361,
   "metadata": {},
   "outputs": [
    {
     "data": {
      "text/plain": [
       "0.000793341541301287"
      ]
     },
     "execution_count": 361,
     "metadata": {},
     "output_type": "execute_result"
    }
   ],
   "source": [
    "#Market risk\n",
    "#print(X.var())\n",
    "sigma_m_square = X.var()[1] #the [0] is a const\n",
    "sigma_m_square"
   ]
  },
  {
   "cell_type": "code",
   "execution_count": 362,
   "metadata": {},
   "outputs": [
    {
     "name": "stdout",
     "output_type": "stream",
     "text": [
      "0.06182171623403562\n",
      "0.42604861406626193\n",
      "0.35353450154906274\n",
      "-0.16561612159398223\n",
      "-0.2887653370514048\n"
     ]
    }
   ],
   "source": [
    "#The beta of each stock\n",
    "for i in range(len(BetaList)):\n",
    "    print(BetaList[i])\n"
   ]
  },
  {
   "cell_type": "code",
   "execution_count": 363,
   "metadata": {},
   "outputs": [
    {
     "data": {
      "text/plain": [
       "[0.002853631750078417,\n",
       " 0.005408237399485748,\n",
       " 0.006164098184757519,\n",
       " 0.0034874394321169665,\n",
       " 0.0027300977997441974]"
      ]
     },
     "execution_count": 363,
     "metadata": {},
     "output_type": "execute_result"
    }
   ],
   "source": [
    "#The square of the standard error of each stock\n",
    "SeSquareList"
   ]
  },
  {
   "cell_type": "markdown",
   "metadata": {},
   "source": [
    "## Index Model - Monthly Covariance Matrix\n",
    "Note: The elements of the covariance matrix in the index model are calculated as below.\n",
    "- $Var(r_i) = \\beta_i^2\\sigma_m^2 + \\sigma^2(e_i)$\n",
    "- $Cov(r_i,r_j) = \\beta_i\\beta_j\\sigma_m^2$"
   ]
  },
  {
   "cell_type": "code",
   "execution_count": 364,
   "metadata": {},
   "outputs": [
    {
     "data": {
      "text/html": [
       "<div>\n",
       "<style scoped>\n",
       "    .dataframe tbody tr th:only-of-type {\n",
       "        vertical-align: middle;\n",
       "    }\n",
       "\n",
       "    .dataframe tbody tr th {\n",
       "        vertical-align: top;\n",
       "    }\n",
       "\n",
       "    .dataframe thead th {\n",
       "        text-align: right;\n",
       "    }\n",
       "</style>\n",
       "<table border=\"1\" class=\"dataframe\">\n",
       "  <thead>\n",
       "    <tr style=\"text-align: right;\">\n",
       "      <th></th>\n",
       "      <th>0</th>\n",
       "      <th>1</th>\n",
       "      <th>2</th>\n",
       "      <th>3</th>\n",
       "      <th>4</th>\n",
       "    </tr>\n",
       "  </thead>\n",
       "  <tbody>\n",
       "    <tr>\n",
       "      <th>0</th>\n",
       "      <td>0.0028566638</td>\n",
       "      <td>0.0000208959</td>\n",
       "      <td>0.0000173394</td>\n",
       "      <td>-0.0000081228</td>\n",
       "      <td>-0.0000141627</td>\n",
       "    </tr>\n",
       "    <tr>\n",
       "      <th>1</th>\n",
       "      <td>0.0000208959</td>\n",
       "      <td>0.0055522427</td>\n",
       "      <td>0.0001194954</td>\n",
       "      <td>-0.0000559786</td>\n",
       "      <td>-0.0000976033</td>\n",
       "    </tr>\n",
       "    <tr>\n",
       "      <th>2</th>\n",
       "      <td>0.0000173394</td>\n",
       "      <td>0.0001194954</td>\n",
       "      <td>0.0062632553</td>\n",
       "      <td>-0.0000464510</td>\n",
       "      <td>-0.0000809911</td>\n",
       "    </tr>\n",
       "    <tr>\n",
       "      <th>3</th>\n",
       "      <td>-0.0000081228</td>\n",
       "      <td>-0.0000559786</td>\n",
       "      <td>-0.0000464510</td>\n",
       "      <td>0.0035091998</td>\n",
       "      <td>0.0000379409</td>\n",
       "    </tr>\n",
       "    <tr>\n",
       "      <th>4</th>\n",
       "      <td>-0.0000141627</td>\n",
       "      <td>-0.0000976033</td>\n",
       "      <td>-0.0000809911</td>\n",
       "      <td>0.0000379409</td>\n",
       "      <td>0.0027962509</td>\n",
       "    </tr>\n",
       "  </tbody>\n",
       "</table>\n",
       "</div>"
      ],
      "text/plain": [
       "              0             1             2             3             4\n",
       "0  0.0028566638  0.0000208959  0.0000173394 -0.0000081228 -0.0000141627\n",
       "1  0.0000208959  0.0055522427  0.0001194954 -0.0000559786 -0.0000976033\n",
       "2  0.0000173394  0.0001194954  0.0062632553 -0.0000464510 -0.0000809911\n",
       "3 -0.0000081228 -0.0000559786 -0.0000464510  0.0035091998  0.0000379409\n",
       "4 -0.0000141627 -0.0000976033 -0.0000809911  0.0000379409  0.0027962509"
      ]
     },
     "execution_count": 364,
     "metadata": {},
     "output_type": "execute_result"
    }
   ],
   "source": [
    "#The Cov matrix\n",
    "listoflists = []\n",
    "for i in range(num_assets):\n",
    "    sublist = []\n",
    "    for j in range(num_assets):\n",
    "        if i ==j:\n",
    "            sublist.append(BetaList[i]**2*sigma_m_square+SeSquareList[i])\n",
    "        else:\n",
    "            sublist.append(BetaList[i]*BetaList[j]*sigma_m_square)\n",
    "    listoflists.append(sublist)\n",
    "IndexMonthlyCovMatrix = pd.DataFrame(listoflists)\n",
    "IndexMonthlyCovMatrix"
   ]
  },
  {
   "cell_type": "markdown",
   "metadata": {},
   "source": [
    "## Index Model - Yearly Covariance Matrix"
   ]
  },
  {
   "cell_type": "code",
   "execution_count": 365,
   "metadata": {},
   "outputs": [
    {
     "data": {
      "text/html": [
       "<div>\n",
       "<style scoped>\n",
       "    .dataframe tbody tr th:only-of-type {\n",
       "        vertical-align: middle;\n",
       "    }\n",
       "\n",
       "    .dataframe tbody tr th {\n",
       "        vertical-align: top;\n",
       "    }\n",
       "\n",
       "    .dataframe thead th {\n",
       "        text-align: right;\n",
       "    }\n",
       "</style>\n",
       "<table border=\"1\" class=\"dataframe\">\n",
       "  <thead>\n",
       "    <tr style=\"text-align: right;\">\n",
       "      <th></th>\n",
       "      <th>0</th>\n",
       "      <th>1</th>\n",
       "      <th>2</th>\n",
       "      <th>3</th>\n",
       "      <th>4</th>\n",
       "    </tr>\n",
       "  </thead>\n",
       "  <tbody>\n",
       "    <tr>\n",
       "      <th>0</th>\n",
       "      <td>0.0342799661</td>\n",
       "      <td>0.0002507504</td>\n",
       "      <td>0.0002080723</td>\n",
       "      <td>-0.0000974732</td>\n",
       "      <td>-0.0001699525</td>\n",
       "    </tr>\n",
       "    <tr>\n",
       "      <th>1</th>\n",
       "      <td>0.0002507504</td>\n",
       "      <td>0.0666269125</td>\n",
       "      <td>0.0014339447</td>\n",
       "      <td>-0.0006717431</td>\n",
       "      <td>-0.0011712394</td>\n",
       "    </tr>\n",
       "    <tr>\n",
       "      <th>2</th>\n",
       "      <td>0.0002080723</td>\n",
       "      <td>0.0014339447</td>\n",
       "      <td>0.0751590634</td>\n",
       "      <td>-0.0005574114</td>\n",
       "      <td>-0.0009718927</td>\n",
       "    </tr>\n",
       "    <tr>\n",
       "      <th>3</th>\n",
       "      <td>-0.0000974732</td>\n",
       "      <td>-0.0006717431</td>\n",
       "      <td>-0.0005574114</td>\n",
       "      <td>0.0421103971</td>\n",
       "      <td>0.0004552910</td>\n",
       "    </tr>\n",
       "    <tr>\n",
       "      <th>4</th>\n",
       "      <td>-0.0001699525</td>\n",
       "      <td>-0.0011712394</td>\n",
       "      <td>-0.0009718927</td>\n",
       "      <td>0.0004552910</td>\n",
       "      <td>0.0335550110</td>\n",
       "    </tr>\n",
       "  </tbody>\n",
       "</table>\n",
       "</div>"
      ],
      "text/plain": [
       "              0             1             2             3             4\n",
       "0  0.0342799661  0.0002507504  0.0002080723 -0.0000974732 -0.0001699525\n",
       "1  0.0002507504  0.0666269125  0.0014339447 -0.0006717431 -0.0011712394\n",
       "2  0.0002080723  0.0014339447  0.0751590634 -0.0005574114 -0.0009718927\n",
       "3 -0.0000974732 -0.0006717431 -0.0005574114  0.0421103971  0.0004552910\n",
       "4 -0.0001699525 -0.0011712394 -0.0009718927  0.0004552910  0.0335550110"
      ]
     },
     "execution_count": 365,
     "metadata": {},
     "output_type": "execute_result"
    }
   ],
   "source": [
    "IndexYearlyCovMatrix = IndexMonthlyCovMatrix*12\n",
    "IndexYearlyCovMatrix"
   ]
  },
  {
   "cell_type": "markdown",
   "metadata": {},
   "source": [
    "## Index Model - Max Sharpe ratio with shortsale"
   ]
  },
  {
   "cell_type": "code",
   "execution_count": 366,
   "metadata": {},
   "outputs": [
    {
     "name": "stdout",
     "output_type": "stream",
     "text": [
      "The max sharpe ratio is 1.344551343047477\n",
      "The expected return is 0.13177797677367184\n",
      "\n",
      "0.367458251710868\n",
      "0.124562317356189\n",
      "0.139224207873449\n",
      "0.180820606330058\n",
      "0.187934616729437\n"
     ]
    }
   ],
   "source": [
    "expected_return = returns_annual.tolist()\n",
    "maxSharpe_s = findMaxSharpeRatioPortfolio(expected_return,IndexYearlyCovMatrix,0,True)\n",
    "sharpe_rp_s, sharpe_sdp_s = calcPortfolioPerf(maxSharpe_s['x'], expected_return, IndexYearlyCovMatrix)\n",
    "\n",
    "sharpe_ratio_s = sharpe_rp_s / sharpe_sdp_s\n",
    "\n",
    "print(\"The max sharpe ratio is\",sharpe_ratio_s)\n",
    "print(\"The expected return is\",sharpe_rp_s)\n",
    "print(\"\")\n",
    "for i in maxSharpe_s['x']:\n",
    "     print('%.015f' % i)"
   ]
  },
  {
   "cell_type": "markdown",
   "metadata": {},
   "source": [
    "## Index Model - Max Sharpe Ratio without shortsale"
   ]
  },
  {
   "cell_type": "code",
   "execution_count": 367,
   "metadata": {},
   "outputs": [
    {
     "name": "stdout",
     "output_type": "stream",
     "text": [
      "The max sharpe ratio is 1.3445516359826257\n",
      "The expected return is 0.13177292229403953\n",
      "\n",
      "0.367568758626719\n",
      "0.124244660561467\n",
      "0.139066213618173\n",
      "0.181021069185021\n",
      "0.188099298008620\n"
     ]
    }
   ],
   "source": [
    "#max sharpe ratio without shortsale\n",
    "expected_return = returns_annual.tolist()\n",
    "maxSharpe_n = findMaxSharpeRatioPortfolio(expected_return,IndexYearlyCovMatrix,0,False)\n",
    "sharpe_rp_n, sharpe_sdp_n = calcPortfolioPerf(maxSharpe_n['x'], expected_return, IndexYearlyCovMatrix)\n",
    "\n",
    "sharpe_ratio_n = sharpe_rp_n / sharpe_sdp_n\n",
    "\n",
    "print(\"The max sharpe ratio is\",sharpe_ratio_n)\n",
    "print(\"The expected return is\",sharpe_rp_n)\n",
    "print(\"\")\n",
    "for i in maxSharpe_n['x']:\n",
    "     print('%.015f' % i)"
   ]
  },
  {
   "cell_type": "markdown",
   "metadata": {},
   "source": [
    "## Index Model - Min Var with shortsale"
   ]
  },
  {
   "cell_type": "code",
   "execution_count": 368,
   "metadata": {},
   "outputs": [
    {
     "name": "stdout",
     "output_type": "stream",
     "text": [
      "The min sd is :  0.09426069673165499\n",
      "The return is :  0.1218956997045454\n",
      " \n",
      "0.259413262391783\n",
      "0.136711207042503\n",
      "0.119976430507252\n",
      "0.212429202378736\n",
      "0.271469897679726\n"
     ]
    }
   ],
   "source": [
    "portfolios_s, returns_s, risks_s, minvar_portfolio_s = efficient_frontier_and_min_var(returns_annual,IndexYearlyCovMatrix,True)\n",
    "minvar_rp_s, minvar_sdp_s = calcPortfolioPerf(minvar_portfolio_s, expected_return, IndexYearlyCovMatrix)\n",
    "\n",
    "print(\"The min sd is : \", minvar_sdp_s)\n",
    "print(\"The return is : \",minvar_rp_s)\n",
    "print(\" \")\n",
    "for i in minvar_portfolio_s:\n",
    "     print('%.015f' % i)"
   ]
  },
  {
   "cell_type": "markdown",
   "metadata": {},
   "source": [
    "## Index Model - Min Var without shortsale"
   ]
  },
  {
   "cell_type": "code",
   "execution_count": 369,
   "metadata": {},
   "outputs": [
    {
     "name": "stdout",
     "output_type": "stream",
     "text": [
      "The min sd is :  0.09426069673167933\n",
      "The return is :  0.12189570294973373\n",
      " \n",
      "0.259413156156836\n",
      "0.136711290689663\n",
      "0.119976627732418\n",
      "0.212429125549179\n",
      "0.271469799871905\n"
     ]
    }
   ],
   "source": [
    "portfolios_n, returns_n, risks_n, min_portfolio_n = efficient_frontier_and_min_var(returns_annual,IndexYearlyCovMatrix,False)\n",
    "minvar_rp_n, minvar_sdp_n = calcPortfolioPerf(min_portfolio_n, expected_return, IndexYearlyCovMatrix)\n",
    "\n",
    "print(\"The min sd is : \", minvar_sdp_n)\n",
    "print(\"The return is : \",minvar_rp_n)\n",
    "print(\" \")\n",
    "for i in min_portfolio_n:\n",
    "     print('%.015f' % i)"
   ]
  },
  {
   "cell_type": "markdown",
   "metadata": {},
   "source": [
    "## Index Model - Figure"
   ]
  },
  {
   "cell_type": "code",
   "execution_count": 407,
   "metadata": {
    "scrolled": true
   },
   "outputs": [
    {
     "data": {
      "image/png": "[encoded data removed]",
      "text/plain": [
       "<Figure size 720x432 with 1 Axes>"
      ]
     },
     "metadata": {},
     "output_type": "display_data"
    }
   ],
   "source": [
    "plt.figure(figsize=(10,6))    #更改圖的大小\n",
    "x = np.linspace(0, 0.3, 1000)\n",
    "plt.xlim(0.05,0.15)    #更改圖中x之範圍\n",
    "plt.ylim(0.0,0.5)          #更改圖中y之範圍\n",
    "plt.plot(x, sharpe_ratio_s*x,'k')  \n",
    "plt.plot(risks_s, returns_s, 'k')\n",
    "plt.plot(minvar_sdp_s, minvar_rp_s, 'ko') #min variance portfolio with shortsale  \n",
    "plt.plot(sharpe_sdp_s, sharpe_rp_s, 'ko') #min sharpe ratio portfolio with shortsale\n",
    "\n",
    "plt.plot(x, sharpe_ratio_n*x,'r')  \n",
    "plt.plot(risks_n, returns_n, 'r')\n",
    "plt.plot(minvar_sdp_n, minvar_rp_n, 'ro') #min variance portfolio without shortsale\n",
    "plt.plot(sharpe_sdp_n, sharpe_rp_n, 'ro') #min sharpe ratio portfolio without shortsale\n",
    "\n",
    "plt.xlabel('Volatility (Std. Deviation)')\n",
    "plt.ylabel('Expected Returns')\n",
    "plt.title('Efficient Frontier and CAL')\n",
    "plt.grid()\n",
    "\n",
    "plt.show()"
   ]
  },
  {
   "cell_type": "markdown",
   "metadata": {},
   "source": [
    "# Part 3: TB model"
   ]
  },
  {
   "cell_type": "code",
   "execution_count": 373,
   "metadata": {},
   "outputs": [
    {
     "name": "stdout",
     "output_type": "stream",
     "text": [
      "Number of assets:  6\n"
     ]
    }
   ],
   "source": [
    "#The beta of each stock + yuanda50\n",
    "returns_annual = pd.Series([0.18,\n",
    "0.12,\n",
    "0.15,\n",
    "0.11,\n",
    "0.09,\n",
    "0.03])   ##Note: 自行輸入expected returns\n",
    "returns_annual = returns_annual - 0.007   ##Note: 自行輸入expected risk free rate\n",
    "num_assets = len(returns_annual)\n",
    "print(\"Number of assets: \",num_assets)  #Note check the nomber of assets\n",
    "\n",
    "BetaList = BetaList + [1]\n"
   ]
  },
  {
   "cell_type": "code",
   "execution_count": 374,
   "metadata": {},
   "outputs": [
    {
     "data": {
      "text/html": [
       "<div>\n",
       "<style scoped>\n",
       "    .dataframe tbody tr th:only-of-type {\n",
       "        vertical-align: middle;\n",
       "    }\n",
       "\n",
       "    .dataframe tbody tr th {\n",
       "        vertical-align: top;\n",
       "    }\n",
       "\n",
       "    .dataframe thead th {\n",
       "        text-align: right;\n",
       "    }\n",
       "</style>\n",
       "<table border=\"1\" class=\"dataframe\">\n",
       "  <thead>\n",
       "    <tr style=\"text-align: right;\">\n",
       "      <th></th>\n",
       "      <th>0</th>\n",
       "      <th>1</th>\n",
       "      <th>2</th>\n",
       "      <th>3</th>\n",
       "      <th>4</th>\n",
       "      <th>5</th>\n",
       "    </tr>\n",
       "  </thead>\n",
       "  <tbody>\n",
       "    <tr>\n",
       "      <th>0</th>\n",
       "      <td>0.0336995664</td>\n",
       "      <td>0.0002507504</td>\n",
       "      <td>0.0002080723</td>\n",
       "      <td>-0.0000974732</td>\n",
       "      <td>-0.0001699525</td>\n",
       "      <td>0.0005885488</td>\n",
       "    </tr>\n",
       "    <tr>\n",
       "      <th>1</th>\n",
       "      <td>0.0002507504</td>\n",
       "      <td>0.0655269320</td>\n",
       "      <td>0.0014339447</td>\n",
       "      <td>-0.0006717431</td>\n",
       "      <td>-0.0011712394</td>\n",
       "      <td>0.0040560248</td>\n",
       "    </tr>\n",
       "    <tr>\n",
       "      <th>2</th>\n",
       "      <td>0.0002080723</td>\n",
       "      <td>0.0014339447</td>\n",
       "      <td>0.0739053485</td>\n",
       "      <td>-0.0005574114</td>\n",
       "      <td>-0.0009718927</td>\n",
       "      <td>0.0033656833</td>\n",
       "    </tr>\n",
       "    <tr>\n",
       "      <th>3</th>\n",
       "      <td>-0.0000974732</td>\n",
       "      <td>-0.0006717431</td>\n",
       "      <td>-0.0005574114</td>\n",
       "      <td>0.0414010874</td>\n",
       "      <td>0.0004552910</td>\n",
       "      <td>-0.0015766818</td>\n",
       "    </tr>\n",
       "    <tr>\n",
       "      <th>4</th>\n",
       "      <td>-0.0001699525</td>\n",
       "      <td>-0.0011712394</td>\n",
       "      <td>-0.0009718927</td>\n",
       "      <td>0.0004552910</td>\n",
       "      <td>0.0329997369</td>\n",
       "      <td>-0.0027490745</td>\n",
       "    </tr>\n",
       "    <tr>\n",
       "      <th>5</th>\n",
       "      <td>0.0005885488</td>\n",
       "      <td>0.0040560248</td>\n",
       "      <td>0.0033656833</td>\n",
       "      <td>-0.0015766818</td>\n",
       "      <td>-0.0027490745</td>\n",
       "      <td>0.0095200985</td>\n",
       "    </tr>\n",
       "  </tbody>\n",
       "</table>\n",
       "</div>"
      ],
      "text/plain": [
       "              0             1             2             3             4  \\\n",
       "0  0.0336995664  0.0002507504  0.0002080723 -0.0000974732 -0.0001699525   \n",
       "1  0.0002507504  0.0655269320  0.0014339447 -0.0006717431 -0.0011712394   \n",
       "2  0.0002080723  0.0014339447  0.0739053485 -0.0005574114 -0.0009718927   \n",
       "3 -0.0000974732 -0.0006717431 -0.0005574114  0.0414010874  0.0004552910   \n",
       "4 -0.0001699525 -0.0011712394 -0.0009718927  0.0004552910  0.0329997369   \n",
       "5  0.0005885488  0.0040560248  0.0033656833 -0.0015766818 -0.0027490745   \n",
       "\n",
       "              5  \n",
       "0  0.0005885488  \n",
       "1  0.0040560248  \n",
       "2  0.0033656833  \n",
       "3 -0.0015766818  \n",
       "4 -0.0027490745  \n",
       "5  0.0095200985  "
      ]
     },
     "execution_count": 374,
     "metadata": {},
     "output_type": "execute_result"
    }
   ],
   "source": [
    "#The Cov matrix\n",
    "listoflists = []\n",
    "for i in range(num_assets):\n",
    "    sublist = []\n",
    "    for j in range(num_assets):\n",
    "        if i ==j:\n",
    "            sublist.append(ExcessMonthlyReturn.iloc[:,i].var())\n",
    "        else:\n",
    "            sublist.append(BetaList[i]*BetaList[j]*sigma_m_square)\n",
    "    listoflists.append(sublist)\n",
    "\n",
    "IndexMonthlyCovMatrix = pd.DataFrame(listoflists)\n",
    "IndexYearlyCovMatrix = IndexMonthlyCovMatrix*12\n",
    "IndexYearlyCovMatrix.to_csv('CovMatrix.csv')\n",
    "IndexYearlyCovMatrix"
   ]
  },
  {
   "cell_type": "code",
   "execution_count": 375,
   "metadata": {},
   "outputs": [
    {
     "name": "stdout",
     "output_type": "stream",
     "text": [
      "The max sharpe ratio is 1.368933386069405\n",
      "The expected return is 0.11756889797046122\n",
      "\n",
      "0.319776372342733\n",
      "0.101477900373873\n",
      "0.116342556132883\n",
      "0.162888826950557\n",
      "0.174620303223537\n",
      "0.124894040976417\n"
     ]
    }
   ],
   "source": [
    "#Max sharpe ratio - short sale\n",
    "expected_return = returns_annual.tolist()\n",
    "maxSharpe_s = findMaxSharpeRatioPortfolio(expected_return,IndexYearlyCovMatrix,0,True)\n",
    "sharpe_rp_s, sharpe_sdp_s = calcPortfolioPerf(maxSharpe_s['x'], expected_return, IndexYearlyCovMatrix)\n",
    "\n",
    "sharpe_ratio_s = sharpe_rp_s / sharpe_sdp_s\n",
    "\n",
    "print(\"The max sharpe ratio is\",sharpe_ratio_s)\n",
    "print(\"The expected return is\",sharpe_rp_s)\n",
    "print(\"\")\n",
    "for i in maxSharpe_s['x']:\n",
    "     print('%.015f' % i)"
   ]
  },
  {
   "cell_type": "code",
   "execution_count": 376,
   "metadata": {
    "scrolled": true
   },
   "outputs": [
    {
     "name": "stdout",
     "output_type": "stream",
     "text": [
      "The min sd is :  0.06641690702488263\n",
      "The return is :  0.07030826522481867\n",
      " \n"
     ]
    }
   ],
   "source": [
    "#Min variance - short sale\n",
    "portfolios_s, returns_s, risks_s, minvar_portfolio_s = efficient_frontier_and_min_var(returns_annual,IndexYearlyCovMatrix,True)\n",
    "minvar_rp_s, minvar_sdp_s = calcPortfolioPerf(minvar_portfolio_s, expected_return, IndexYearlyCovMatrix)\n",
    "\n",
    "print(\"The min sd is : \", minvar_sdp_s)\n",
    "print(\"The return is : \",minvar_rp_s)\n",
    "print(\" \")\n",
    "#for i in minvar_portfolio_s:\n",
    "#    print('%.015f' % i)"
   ]
  },
  {
   "cell_type": "code",
   "execution_count": 378,
   "metadata": {},
   "outputs": [
    {
     "data": {
      "text/html": [
       "<div>\n",
       "<style scoped>\n",
       "    .dataframe tbody tr th:only-of-type {\n",
       "        vertical-align: middle;\n",
       "    }\n",
       "\n",
       "    .dataframe tbody tr th {\n",
       "        vertical-align: top;\n",
       "    }\n",
       "\n",
       "    .dataframe thead th {\n",
       "        text-align: right;\n",
       "    }\n",
       "</style>\n",
       "<table border=\"1\" class=\"dataframe\">\n",
       "  <thead>\n",
       "    <tr style=\"text-align: right;\">\n",
       "      <th></th>\n",
       "      <th>MinVariance</th>\n",
       "      <th>0</th>\n",
       "      <th>Optimum</th>\n",
       "      <th>1</th>\n",
       "      <th>2</th>\n",
       "      <th>3</th>\n",
       "      <th>4</th>\n",
       "      <th>5</th>\n",
       "      <th>6</th>\n",
       "    </tr>\n",
       "  </thead>\n",
       "  <tbody>\n",
       "    <tr>\n",
       "      <th>0</th>\n",
       "      <td>0.0703082652</td>\n",
       "      <td>0.1000000000</td>\n",
       "      <td>0.1175688980</td>\n",
       "      <td>0.2000000000</td>\n",
       "      <td>0.3000000000</td>\n",
       "      <td>0.5000000000</td>\n",
       "      <td>0.6000000000</td>\n",
       "      <td>0.7000000000</td>\n",
       "      <td>0.8000001570</td>\n",
       "    </tr>\n",
       "    <tr>\n",
       "      <th>1</th>\n",
       "      <td>0.0664169070</td>\n",
       "      <td>0.0747088986</td>\n",
       "      <td>0.0858835785</td>\n",
       "      <td>0.1635163105</td>\n",
       "      <td>0.2728392245</td>\n",
       "      <td>0.5122140716</td>\n",
       "      <td>0.6548521232</td>\n",
       "      <td>0.8067519073</td>\n",
       "      <td>0.9748535102</td>\n",
       "    </tr>\n",
       "    <tr>\n",
       "      <th>2</th>\n",
       "      <td>1.0585898738</td>\n",
       "      <td>1.3385286335</td>\n",
       "      <td>1.3689333861</td>\n",
       "      <td>1.2231195740</td>\n",
       "      <td>1.0995486466</td>\n",
       "      <td>0.9761543616</td>\n",
       "      <td>0.9162373897</td>\n",
       "      <td>0.8676769075</td>\n",
       "      <td>0.8206362788</td>\n",
       "    </tr>\n",
       "    <tr>\n",
       "      <th>3</th>\n",
       "      <td>0.3197763723</td>\n",
       "      <td>0.2465916920</td>\n",
       "      <td>0.3197763723</td>\n",
       "      <td>0.6630484248</td>\n",
       "      <td>1.0795051830</td>\n",
       "      <td>1.4999994633</td>\n",
       "      <td>1.4999997947</td>\n",
       "      <td>1.4999999405</td>\n",
       "      <td>1.5540002233</td>\n",
       "    </tr>\n",
       "    <tr>\n",
       "      <th>4</th>\n",
       "      <td>0.1014779004</td>\n",
       "      <td>0.0785086584</td>\n",
       "      <td>0.1014779004</td>\n",
       "      <td>0.2092664731</td>\n",
       "      <td>0.3400242803</td>\n",
       "      <td>0.7641031283</td>\n",
       "      <td>1.0590156997</td>\n",
       "      <td>1.4333782745</td>\n",
       "      <td>1.5540001652</td>\n",
       "    </tr>\n",
       "    <tr>\n",
       "      <th>5</th>\n",
       "      <td>0.1163425561</td>\n",
       "      <td>0.0876814460</td>\n",
       "      <td>0.1163425561</td>\n",
       "      <td>0.2509062514</td>\n",
       "      <td>0.4141310634</td>\n",
       "      <td>0.9345305273</td>\n",
       "      <td>1.2936034574</td>\n",
       "      <td>1.4999981415</td>\n",
       "      <td>1.5540002037</td>\n",
       "    </tr>\n",
       "    <tr>\n",
       "      <th>6</th>\n",
       "      <td>0.1628888270</td>\n",
       "      <td>0.1487951900</td>\n",
       "      <td>0.1628888270</td>\n",
       "      <td>0.2289951024</td>\n",
       "      <td>0.3091949996</td>\n",
       "      <td>0.6568461426</td>\n",
       "      <td>0.9261305934</td>\n",
       "      <td>1.2840406509</td>\n",
       "      <td>1.5540001077</td>\n",
       "    </tr>\n",
       "    <tr>\n",
       "      <th>7</th>\n",
       "      <td>0.1746203032</td>\n",
       "      <td>0.1753346370</td>\n",
       "      <td>0.1746203032</td>\n",
       "      <td>0.1713399224</td>\n",
       "      <td>0.1673451624</td>\n",
       "      <td>0.3089907379</td>\n",
       "      <td>0.4560959243</td>\n",
       "      <td>0.6712155863</td>\n",
       "      <td>1.5539997804</td>\n",
       "    </tr>\n",
       "    <tr>\n",
       "      <th>8</th>\n",
       "      <td>0.1248940410</td>\n",
       "      <td>0.2630883766</td>\n",
       "      <td>0.1248940410</td>\n",
       "      <td>-0.5235561741</td>\n",
       "      <td>-1.3102006887</td>\n",
       "      <td>-3.1644699994</td>\n",
       "      <td>-4.2348454695</td>\n",
       "      <td>-5.3886325936</td>\n",
       "      <td>-6.7699966231</td>\n",
       "    </tr>\n",
       "  </tbody>\n",
       "</table>\n",
       "</div>"
      ],
      "text/plain": [
       "    MinVariance             0       Optimum             1             2  \\\n",
       "0  0.0703082652  0.1000000000  0.1175688980  0.2000000000  0.3000000000   \n",
       "1  0.0664169070  0.0747088986  0.0858835785  0.1635163105  0.2728392245   \n",
       "2  1.0585898738  1.3385286335  1.3689333861  1.2231195740  1.0995486466   \n",
       "3  0.3197763723  0.2465916920  0.3197763723  0.6630484248  1.0795051830   \n",
       "4  0.1014779004  0.0785086584  0.1014779004  0.2092664731  0.3400242803   \n",
       "5  0.1163425561  0.0876814460  0.1163425561  0.2509062514  0.4141310634   \n",
       "6  0.1628888270  0.1487951900  0.1628888270  0.2289951024  0.3091949996   \n",
       "7  0.1746203032  0.1753346370  0.1746203032  0.1713399224  0.1673451624   \n",
       "8  0.1248940410  0.2630883766  0.1248940410 -0.5235561741 -1.3102006887   \n",
       "\n",
       "              3             4             5             6  \n",
       "0  0.5000000000  0.6000000000  0.7000000000  0.8000001570  \n",
       "1  0.5122140716  0.6548521232  0.8067519073  0.9748535102  \n",
       "2  0.9761543616  0.9162373897  0.8676769075  0.8206362788  \n",
       "3  1.4999994633  1.4999997947  1.4999999405  1.5540002233  \n",
       "4  0.7641031283  1.0590156997  1.4333782745  1.5540001652  \n",
       "5  0.9345305273  1.2936034574  1.4999981415  1.5540002037  \n",
       "6  0.6568461426  0.9261305934  1.2840406509  1.5540001077  \n",
       "7  0.3089907379  0.4560959243  0.6712155863  1.5539997804  \n",
       "8 -3.1644699994 -4.2348454695 -5.3886325936 -6.7699966231  "
      ]
     },
     "execution_count": 378,
     "metadata": {},
     "output_type": "execute_result"
    }
   ],
   "source": [
    "#portfolio maxSharpe_s['x']  (shortsale)\n",
    "MaxSharpe_potfolio_s = np.concatenate([[sharpe_rp_s],[sharpe_sdp_s],[sharpe_ratio_s],maxSharpe_s['x']])\n",
    "MinVariance_portfolio_s = np.concatenate([[minvar_rp_s],[minvar_sdp_s],[minvar_rp_s/minvar_sdp_s],maxSharpe_s['x']])\n",
    "\n",
    "pd.set_option('precision',10)\n",
    "GivenReturnList = [0.10, 0.20, 0.30, 0.50, 0.60, 0.70,0.80]\n",
    "l =[]\n",
    "for i in range(len(GivenReturnList)):  \n",
    "    GivenReturn = GivenReturnList[i]   \n",
    "    portfolio = GivenReturnMinVarPort(GivenReturn, returns_annual,IndexYearlyCovMatrix,True)  #####\n",
    "    portfolio_rp, portfolio_sdp = calcPortfolioPerf(portfolio, expected_return, IndexYearlyCovMatrix)\n",
    "    sharpe = portfolio_rp/portfolio_sdp\n",
    "    column = [portfolio_rp, portfolio_sdp, sharpe] + portfolio.tolist()\n",
    "    l.append(column)\n",
    "\n",
    "data=pd.DataFrame(l).T\n",
    "data.insert(0, \"MinVariance\", MinVariance_portfolio_s)  #####\n",
    "data.insert(2, \"Optimum\", MaxSharpe_potfolio_s)\n",
    "data"
   ]
  },
  {
   "cell_type": "code",
   "execution_count": 379,
   "metadata": {},
   "outputs": [],
   "source": [
    "data.to_csv('Portfolios.csv')"
   ]
  },
  {
   "cell_type": "code",
   "execution_count": 380,
   "metadata": {},
   "outputs": [
    {
     "data": {
      "image/png": "[encoded data removed]",
      "text/plain": [
       "<Figure size 720x432 with 1 Axes>"
      ]
     },
     "metadata": {},
     "output_type": "display_data"
    }
   ],
   "source": [
    "#figure\n",
    "plt.figure(figsize=(10,6))    #更改圖的大小\n",
    "x = np.linspace(0, 0.5, 1000)\n",
    "plt.xlim(0,0.225)    #更改圖中x之範圍\n",
    "plt.ylim(0.0,0.5)          #更改圖中y之範圍\n",
    "plt.plot(x, sharpe_ratio_s*x,'k')  \n",
    "plt.plot(risks_s, returns_s, 'k')\n",
    "plt.plot(minvar_sdp_s, minvar_rp_s, 'ko') #min variance portfolio with shortsale\n",
    "plt.plot(sharpe_sdp_s, sharpe_rp_s, 'ko') #min sharpe ratio portfolio with shortsale\n",
    "\n",
    "plt.xlabel('Volatility (Std. Deviation)')\n",
    "plt.ylabel('Expected Returns')\n",
    "plt.title('Efficient Frontier and CAL')\n",
    "plt.grid()\n",
    "\n",
    "plt.show()"
   ]
  },
  {
   "cell_type": "markdown",
   "metadata": {},
   "source": [
    "## TB model officially starts here!"
   ]
  },
  {
   "cell_type": "markdown",
   "metadata": {},
   "source": [
    "### Step 1: compute $w^0_i$ within the active portfolio A"
   ]
  },
  {
   "cell_type": "code",
   "execution_count": 381,
   "metadata": {},
   "outputs": [
    {
     "data": {
      "text/plain": [
       "[0.17157810052661718,\n",
       " 0.10320088187647597,\n",
       " 0.13486870646437155,\n",
       " 0.10680917079666158,\n",
       " 0.0896416027521823,\n",
       " 0.0]"
      ]
     },
     "execution_count": 381,
     "metadata": {},
     "output_type": "execute_result"
    }
   ],
   "source": [
    "#Alpha\n",
    "AlphaList = [0]*num_assets\n",
    "for i in range(num_assets):\n",
    "    AlphaList[i] = returns_annual[i] - BetaList[i]*returns_annual.tolist()[-1]  #因為returns_annua是pd series所以用.tolist()轉成list\n",
    "AlphaList"
   ]
  },
  {
   "cell_type": "code",
   "execution_count": 382,
   "metadata": {},
   "outputs": [
    {
     "name": "stdout",
     "output_type": "stream",
     "text": [
      "0.034243581000941006\n",
      "0.06489884879382898\n",
      "0.07396917821709023\n",
      "0.0418492731854036\n",
      "0.03276117359693037\n"
     ]
    }
   ],
   "source": [
    "#YearlySeSquare (firm-specific risk)\n",
    "YearlySeSquareList = [i * 12 for i in SeSquareList]\n",
    "for i in range(len(YearlySeSquareList)):\n",
    "    print(YearlySeSquareList[i])"
   ]
  },
  {
   "cell_type": "code",
   "execution_count": 383,
   "metadata": {},
   "outputs": [
    {
     "data": {
      "text/plain": [
       "[5.010518628933763,\n",
       " 1.5901804699853013,\n",
       " 1.8233095150597571,\n",
       " 2.5522347860969545,\n",
       " 2.7362146379451273]"
      ]
     },
     "execution_count": 383,
     "metadata": {},
     "output_type": "execute_result"
    }
   ],
   "source": [
    "#AlphaToFirmRisk\n",
    "AlphaToFirmRisk = [(x*1.0)/y for x, y in zip(AlphaList, YearlySeSquareList)]\n",
    "AlphaToFirmRisk"
   ]
  },
  {
   "cell_type": "code",
   "execution_count": 384,
   "metadata": {},
   "outputs": [
    {
     "data": {
      "text/plain": [
       "[0.3653990127109933,\n",
       " 0.11596611384889308,\n",
       " 0.13296737244367254,\n",
       " 0.1861252577050959,\n",
       " 0.19954224329134504]"
      ]
     },
     "execution_count": 384,
     "metadata": {},
     "output_type": "execute_result"
    }
   ],
   "source": [
    "#wi_0\n",
    "wi_0 = [i/sum(AlphaToFirmRisk) for i in AlphaToFirmRisk]\n",
    "wi_0"
   ]
  },
  {
   "cell_type": "code",
   "execution_count": 385,
   "metadata": {},
   "outputs": [
    {
     "data": {
      "text/plain": [
       "[0.13351643849016864,\n",
       " 0.01344813956121443,\n",
       " 0.01768032213457433,\n",
       " 0.03464261155578836,\n",
       " 0.03981710685774233]"
      ]
     },
     "execution_count": 385,
     "metadata": {},
     "output_type": "execute_result"
    }
   ],
   "source": [
    "#wi_0_square\n",
    "wi_0_square = [ i**2 for i in wi_0]\n",
    "wi_0_square"
   ]
  },
  {
   "cell_type": "markdown",
   "metadata": {},
   "source": [
    "### Step 2: compute  $\\alpha_A =\\sum_{i=1}^{6}w^0_i\\alpha_i $,   $\\sigma^2(e_A) = \\sum_{i=1}^{6}(w^0_i)^2\\sigma^2(e_i)$"
   ]
  },
  {
   "cell_type": "code",
   "execution_count": 386,
   "metadata": {},
   "outputs": [
    {
     "data": {
      "text/plain": [
       "0.13036258222088978"
      ]
     },
     "execution_count": 386,
     "metadata": {},
     "output_type": "execute_result"
    }
   ],
   "source": [
    "# Alpha和wi_0的內積\n",
    "Alpha_A = sum([x*y for x, y in zip(AlphaList,wi_0)])\n",
    "Alpha_A"
   ]
  },
  {
   "cell_type": "code",
   "execution_count": 387,
   "metadata": {},
   "outputs": [
    {
     "data": {
      "text/plain": [
       "0.009506871915992737"
      ]
     },
     "execution_count": 387,
     "metadata": {},
     "output_type": "execute_result"
    }
   ],
   "source": [
    "#YearlySeSquareList和wi_0_square的內積\n",
    "Sigma_eA_square = sum([x*y for x, y in zip(YearlySeSquareList,wi_0_square)])\n",
    "Sigma_eA_square"
   ]
  },
  {
   "cell_type": "markdown",
   "metadata": {},
   "source": [
    "### Step 3: compute  $w^0_A = \\frac{\\alpha_A/\\sigma^2(e_A)}{E(R_M)/\\sigma^2_M}$"
   ]
  },
  {
   "cell_type": "code",
   "execution_count": 388,
   "metadata": {},
   "outputs": [
    {
     "data": {
      "text/plain": [
       "5.675823962563161"
      ]
     },
     "execution_count": 388,
     "metadata": {},
     "output_type": "execute_result"
    }
   ],
   "source": [
    "#here we denote wA0 it as wA_0\n",
    "wA_0 = (Alpha_A/Sigma_eA_square) / (returns_annual.tolist()[-1]/IndexYearlyCovMatrix.iloc[-1,-1])\n",
    "wA_0"
   ]
  },
  {
   "cell_type": "code",
   "execution_count": 389,
   "metadata": {},
   "outputs": [
    {
     "data": {
      "text/plain": [
       "1.787591438432001"
      ]
     },
     "execution_count": 389,
     "metadata": {},
     "output_type": "execute_result"
    }
   ],
   "source": [
    "#Information ratio \n",
    "InfoRatio = Alpha_A**2 / Sigma_eA_square\n",
    "InfoRatio"
   ]
  },
  {
   "cell_type": "markdown",
   "metadata": {},
   "source": [
    "### Step4: compute $w^*_A = \\frac{W^0_A}{1+(1-\\beta_A)W^0_A}$"
   ]
  },
  {
   "cell_type": "code",
   "execution_count": 390,
   "metadata": {},
   "outputs": [
    {
     "data": {
      "text/plain": [
       "0.030559123447332283"
      ]
     },
     "execution_count": 390,
     "metadata": {},
     "output_type": "execute_result"
    }
   ],
   "source": [
    "#beta_A\n",
    "beta_A = sum([x*y for x, y in zip(wi_0,BetaList[:-1])])  #因為我們在最後一項放了market portfolio的beta值(1)所以要扣掉\n",
    "beta_A"
   ]
  },
  {
   "cell_type": "code",
   "execution_count": 391,
   "metadata": {},
   "outputs": [
    {
     "data": {
      "text/plain": [
       "0.8728846462127686"
      ]
     },
     "execution_count": 391,
     "metadata": {},
     "output_type": "execute_result"
    }
   ],
   "source": [
    "#wA_star\n",
    "wA_star = wA_0 / ( 1 + ( 1 - beta_A)* wA_0)\n",
    "wA_star"
   ]
  },
  {
   "cell_type": "markdown",
   "metadata": {},
   "source": [
    "### Step5: compute $w_i^* = w_A^*w_i^0$"
   ]
  },
  {
   "cell_type": "code",
   "execution_count": 392,
   "metadata": {},
   "outputs": [
    {
     "name": "stdout",
     "output_type": "stream",
     "text": [
      "wi_star:   [0.31895118793673033, 0.10122504025966068, 0.11606517785333655, 0.162465879723173, 0.17417736043986792]\n",
      "wm_star:  0.12711535378723138\n"
     ]
    }
   ],
   "source": [
    "wi_star = [wA_star*i for i in wi_0]\n",
    "print(\"wi_star:  \", wi_star)\n",
    "\n",
    "w_market = 1 - wA_star\n",
    "print(\"wm_star: \", w_market)"
   ]
  },
  {
   "cell_type": "markdown",
   "metadata": {},
   "source": [
    "### (12) Benchmark risk: $\\sigma(T_E) = w_A\\sqrt{(1-\\beta_A)^2\\sigma_M^2 + \\sigma(e_A)^2)}$"
   ]
  },
  {
   "cell_type": "code",
   "execution_count": 396,
   "metadata": {
    "scrolled": true
   },
   "outputs": [
    {
     "data": {
      "text/plain": [
       "0.11857748092685687"
      ]
     },
     "execution_count": 396,
     "metadata": {},
     "output_type": "execute_result"
    }
   ],
   "source": [
    "BenchMarkRisk = wA_star*((1-beta_A)**2*(ExcessMonthlyReturn.iloc[:,-1].var()*12)+ Sigma_eA_square)**0.5\n",
    "BenchMarkRisk"
   ]
  },
  {
   "cell_type": "markdown",
   "metadata": {},
   "source": [
    "### (13) Setting benchmark risk "
   ]
  },
  {
   "cell_type": "code",
   "execution_count": 397,
   "metadata": {},
   "outputs": [
    {
     "name": "stdout",
     "output_type": "stream",
     "text": [
      "wM:  0.6319349005435537\n",
      "wA:   0.3680650994564463\n",
      "wi  :  [0.13449062395475903, 0.0426830792273704, 0.04894064916294267, 0.06850621148858281, 0.07344453562279131]\n"
     ]
    }
   ],
   "source": [
    "SetBenchMark = 0.05   ##Change this number to get risk-controlled market portfolio\n",
    "wA_CtrlBenchMark = SetBenchMark / ((1-beta_A)**2*(ExcessMonthlyReturn.iloc[:,-1].var()*12)+ Sigma_eA_square)**0.5\n",
    "wi_star_CtrlBenchMark = [i*wA_CtrlBenchMark for i in wi_0]\n",
    "wM_CtrlBenchMark = 1 - wA_CtrlBenchMark\n",
    "\n",
    "print(\"wM: \", wM_CtrlBenchMark)\n",
    "print(\"wA:  \", wA_CtrlBenchMark)\n",
    "print(\"wi  : \",wi_star_CtrlBenchMark)"
   ]
  },
  {
   "cell_type": "markdown",
   "metadata": {},
   "source": [
    "### (14) Assuming A = 10 "
   ]
  },
  {
   "cell_type": "code",
   "execution_count": 404,
   "metadata": {},
   "outputs": [
    {
     "name": "stdout",
     "output_type": "stream",
     "text": [
      "Y Star:  1.2011558617173819\n",
      "wi: \n",
      "0.16154420130928693\n",
      "0.05126903081010337\n",
      "0.058785347618322464\n",
      "0.0822866374935619\n",
      "0.08821833447442684\n",
      "Deposit:      -0.20115586171738187\n",
      "Investment:  1.2011558617173819\n"
     ]
    }
   ],
   "source": [
    "A = 10\n",
    "Investment = 1000000\n",
    "p_RiskPremium =  wM_CtrlBenchMark*returns_annual.tolist()[-1] + wA_CtrlBenchMark*(beta_A*returns_annual.tolist()[-1] + Alpha_A)\n",
    "sigma_p_square = ((wM_CtrlBenchMark+wA_CtrlBenchMark*beta_A)**2)*IndexYearlyCovMatrix.iloc[-1,-1] + wA_CtrlBenchMark**2*Sigma_eA_square\n",
    "y_star = p_RiskPremium /(A*sigma_p_square)\n",
    "w_rf = 1 - y_star\n",
    "w_stock = [y_star*i for i in wi_star_CtrlBenchMark]\n",
    "\n",
    "print(\"Y Star: \", y_star)\n",
    "print(\"wi: \")\n",
    "for i in range(len(w_stock)):\n",
    "    print(w_stock[i])\n",
    "\n",
    "print(\"Deposit:     \", w_rf)\n",
    "print(\"Investment: \", y_star)\n",
    "\n"
   ]
  },
  {
   "cell_type": "code",
   "execution_count": 405,
   "metadata": {},
   "outputs": [
    {
     "name": "stdout",
     "output_type": "stream",
     "text": [
      "Y Star:  6.005779308586909\n",
      "wi: \n",
      "0.8077210065464346\n",
      "0.2563451540505169\n",
      "0.29392673809161235\n",
      "0.41143318746780944\n",
      "0.4410916723721342\n",
      "Deposit:      -5.005779308586909\n",
      "Investment:  6.005779308586909\n"
     ]
    }
   ],
   "source": [
    "A = 2\n",
    "Investment = 1000000\n",
    "p_RiskPremium =  wM_CtrlBenchMark*returns_annual.tolist()[-1] + wA_CtrlBenchMark*(beta_A*returns_annual.tolist()[-1] + Alpha_A)\n",
    "sigma_p_square = ((wM_CtrlBenchMark+wA_CtrlBenchMark*beta_A)**2)*IndexYearlyCovMatrix.iloc[-1,-1] + wA_CtrlBenchMark**2*Sigma_eA_square\n",
    "y_star = p_RiskPremium /(A*sigma_p_square)\n",
    "w_rf = 1 - y_star\n",
    "w_stock = [y_star*i for i in wi_star_CtrlBenchMark]\n",
    "\n",
    "print(\"Y Star: \", y_star)\n",
    "print(\"wi: \")\n",
    "for i in range(len(w_stock)):\n",
    "    print(w_stock[i])\n",
    "\n",
    "print(\"Deposit:     \", w_rf)\n",
    "print(\"Investment: \", y_star)"
   ]
  },
  {
   "cell_type": "markdown",
   "metadata": {},
   "source": [
    "### (15) Change the Alpha "
   ]
  },
  {
   "cell_type": "code",
   "execution_count": 329,
   "metadata": {},
   "outputs": [
    {
     "data": {
      "text/plain": [
       "[0.09666313964964478,\n",
       " 0.030677829626398735,\n",
       " 0.03517536513306063,\n",
       " 0.049237822632279174,\n",
       " 0.05278716980149732,\n",
       " 0.02404181842083521,\n",
       " 0.016490249594962637,\n",
       " 0.26629213437965277]"
      ]
     },
     "execution_count": 329,
     "metadata": {},
     "output_type": "execute_result"
    }
   ],
   "source": [
    "#Change the Alpha here\n",
    "AlphaList = [ i*0.1 for i in AlphaList]\n",
    "\n",
    "#Just copying\n",
    "AlphaToFirmRisk = [(x*1.0)/y for x, y in zip(AlphaList, YearlySeSquareList)]\n",
    "wi_0 = [i/sum(AlphaToFirmRisk) for i in AlphaToFirmRisk]\n",
    "wi_0_square = [ i**2 for i in wi_0]\n",
    "Alpha_A = sum([x*y for x, y in zip(AlphaList,wi_0)])\n",
    "Sigma_eA_square = sum([x*y for x, y in zip(YearlySeSquareList,wi_0_square)])\n",
    "wA_0 = (Alpha_A/Sigma_eA_square) / (returns_annual.tolist()[-1]/IndexYearlyCovMatrix.iloc[-1,-1])\n",
    "beta_A = sum([x*y for x, y in zip(wi_0,BetaList[:-1])])\n",
    "wA_star = wA_0 / ( 1 + ( 1 - beta_A)* wA_0)\n",
    "wi_star = [wA_star*i for i in wi_0]\n",
    "w_market = 1 - wA_star\n",
    "wi_star"
   ]
  }
 ],
 "metadata": {
  "kernelspec": {
   "display_name": "Python 3",
   "language": "python",
   "name": "python3"
  },
  "language_info": {
   "codemirror_mode": {
    "name": "ipython",
    "version": 3
   },
   "file_extension": ".py",
   "mimetype": "text/x-python",
   "name": "python",
   "nbconvert_exporter": "python",
   "pygments_lexer": "ipython3",
   "version": "3.6.5"
  }
 },
 "nbformat": 4,
 "nbformat_minor": 2
}
